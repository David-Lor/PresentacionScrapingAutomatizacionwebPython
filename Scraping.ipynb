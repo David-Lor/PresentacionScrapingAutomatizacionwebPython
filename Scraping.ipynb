{
 "cells": [
  {
   "cell_type": "markdown",
   "metadata": {},
   "source": [
    "# Scraping con requests-html"
   ]
  },
  {
   "cell_type": "markdown",
   "metadata": {},
   "source": [
    "Pre-requisitos:\n",
    "\n",
    "* instalar librería **requests-html** (pip)\n",
    "\n",
    "Inicialización:\n",
    "\n",
    "* Importamos la librería\n",
    "* Creamos una nueva session\n",
    "* Lanzamos una request a la web https://www.python.org"
   ]
  },
  {
   "cell_type": "code",
   "execution_count": null,
   "metadata": {},
   "outputs": [],
   "source": [
    "from requests_html import HTMLSession\n",
    "session = HTMLSession()\n",
    "r = session.get(\"https://python.org/\")"
   ]
  },
  {
   "cell_type": "markdown",
   "metadata": {},
   "source": [
    "Todo el contenido HTML se encuentra bajo **r.html**\n",
    "\n",
    "Vamos a buscar el título de la página, que se encuentra en la tag **title**"
   ]
  },
  {
   "cell_type": "code",
   "execution_count": null,
   "metadata": {},
   "outputs": [],
   "source": [
    "titulo = r.html.find(\"title\", first=True).text\n",
    "print(titulo)"
   ]
  },
  {
   "cell_type": "markdown",
   "metadata": {},
   "source": [
    "Vamos a buscar todos los enlaces de la página"
   ]
  },
  {
   "cell_type": "code",
   "execution_count": null,
   "metadata": {},
   "outputs": [],
   "source": [
    "enlaces = r.html.links\n",
    "print(\"Enlaces relativos:\")\n",
    "print(enlaces)\n",
    "\n",
    "enlaces = r.html.absolute_links\n",
    "print(\"\\nEnlaces absolutos:\")\n",
    "print(enlaces)"
   ]
  },
  {
   "cell_type": "markdown",
   "metadata": {},
   "source": [
    "Queremos obtener el texto de un div, que en el código fuente HTML tiene asignada la id #about"
   ]
  },
  {
   "cell_type": "code",
   "execution_count": null,
   "metadata": {},
   "outputs": [],
   "source": [
    "about = r.html.find(\"#about\", first=True)\n",
    "print(about.text)"
   ]
  },
  {
   "cell_type": "markdown",
   "metadata": {},
   "source": [
    "Vamos a buscar los enlaces que hay sólo en el div con id #about"
   ]
  },
  {
   "cell_type": "code",
   "execution_count": null,
   "metadata": {},
   "outputs": [],
   "source": [
    "print(about.absolute_links)"
   ]
  },
  {
   "cell_type": "markdown",
   "metadata": {},
   "source": [
    "Ahora vamos a buscar todas las imágenes (etiqueta **img**)"
   ]
  },
  {
   "cell_type": "code",
   "execution_count": null,
   "metadata": {},
   "outputs": [],
   "source": [
    "imgs = r.html.find(\"img\")\n",
    "print(\"He encontrado\", len(imgs), \"imágenes\")\n",
    "#Vamos a ver los enlaces de cada imagen (atributo src)\n",
    "for i in imgs:\n",
    "    print(i.attrs[\"src\"])"
   ]
  },
  {
   "cell_type": "markdown",
   "metadata": {},
   "source": [
    "También podemos buscar texto en la página.\n",
    "\n",
    "En la página de Python hay un sitio donde aparece el texto: \"Python is a programming language\". Vamos a buscar qué palabra aparece en \"Python is a ... language\""
   ]
  },
  {
   "cell_type": "code",
   "execution_count": null,
   "metadata": {},
   "outputs": [],
   "source": [
    "resultado = r.html.search(\"Python is a {} language\")[0]\n",
    "print(resultado)"
   ]
  },
  {
   "cell_type": "markdown",
   "metadata": {},
   "source": [
    "Búsqueda por XPath"
   ]
  },
  {
   "cell_type": "code",
   "execution_count": null,
   "metadata": {},
   "outputs": [],
   "source": [
    "xp = '//*[@id=\"content\"]/div/section/div[5]/p[1]'\n",
    "resultado = r.html.xpath(xp, first=True).text\n",
    "print(resultado)"
   ]
  },
  {
   "cell_type": "markdown",
   "metadata": {},
   "source": [
    "## Soporte a JavaScript\n",
    "requests-html soporta la ejecución de código JavaScript.\n",
    "\n",
    "Primero, vamos a intentar extraer el tiempo que aparece en la página https://www.pythonclock.org/ (se encuentra dentro de un div con las clases **.python-27-clock** y **is-countdown**)\n"
   ]
  },
  {
   "cell_type": "code",
   "execution_count": null,
   "metadata": {},
   "outputs": [],
   "source": [
    "r = session.get(\"https://www.pythonclock.org\")\n",
    "tiempo = r.html.find(\".python-27-clock\", first=True)\n",
    "print(tiempo)\n",
    "print(\"Texto: '{}'\".format(tiempo.text))"
   ]
  },
  {
   "cell_type": "markdown",
   "metadata": {},
   "source": [
    "Podemos localizar el div, pero no tiene texto porque éste se genera mediante JavaScript. Es por ello que debemos renderizar los JS de la página para obtenerlo, utilizando el método render() sobre r.html (al ejecutarlo por primera vez descargará chromium en el directorio home)\n",
    "\n",
    "r.html.render() da un error en Jupyter, por lo que hay que ejecutarlo fuera."
   ]
  },
  {
   "cell_type": "code",
   "execution_count": null,
   "metadata": {},
   "outputs": [],
   "source": [
    "r.html.render()\n",
    "tiempo = r.html.find(\".python-27-clock\", first=True)\n",
    "print(\"Texto: '{}'\".format(tiempo.text))"
   ]
  }
 ],
 "metadata": {
  "kernelspec": {
   "display_name": "Python 3",
   "language": "python",
   "name": "python3"
  },
  "language_info": {
   "codemirror_mode": {
    "name": "ipython",
    "version": 3
   },
   "file_extension": ".py",
   "mimetype": "text/x-python",
   "name": "python",
   "nbconvert_exporter": "python",
   "pygments_lexer": "ipython3",
   "version": "3.6.5"
  }
 },
 "nbformat": 4,
 "nbformat_minor": 2
}
